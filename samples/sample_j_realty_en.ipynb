{
 "cells": [
  {
   "cell_type": "code",
   "execution_count": 1,
   "metadata": {},
   "outputs": [],
   "source": [
    "from j_realty_api import j_realty_en as jrn"
   ]
  },
  {
   "cell_type": "code",
   "execution_count": 2,
   "metadata": {},
   "outputs": [
    {
     "name": "stdout",
     "output_type": "stream",
     "text": [
      "26\n",
      "{'status': 'OK', 'data': [{'id': '26100', 'name': 'kyoto city'}, {'id': '26101', 'name': 'kita ward'}, {'id': '26102', 'name': 'kamigyo ward'}, {'id': '26103', 'name': 'sakyo ward'}, {'id': '26104', 'name': 'nakagyo ward'}, {'id': '26105', 'name': 'higashiyama ward'}, {'id': '26106', 'name': 'shimogyo ward'}, {'id': '26107', 'name': 'minami ward'}, {'id': '26108', 'name': 'ukyo ward'}, {'id': '26109', 'name': 'fushimi ward'}, {'id': '26110', 'name': 'yamashina ward'}, {'id': '26111', 'name': 'nishikyo ward'}, {'id': '26201', 'name': 'fukuchiyama city'}, {'id': '26202', 'name': 'maizuru city'}, {'id': '26203', 'name': 'ayabe city'}, {'id': '26204', 'name': 'uji city'}, {'id': '26205', 'name': 'miyazu city'}, {'id': '26206', 'name': 'kameoka city'}, {'id': '26207', 'name': 'joyo city'}, {'id': '26208', 'name': 'muko city'}, {'id': '26209', 'name': 'nagaokakyo city'}, {'id': '26210', 'name': 'yawata city'}, {'id': '26211', 'name': 'kyotanabe city'}, {'id': '26212', 'name': 'kyotango city'}, {'id': '26213', 'name': 'nantan city'}, {'id': '26214', 'name': 'kizugawa city'}, {'id': '26303', 'name': 'oyamazaki town'}, {'id': '26322', 'name': 'kumiyama town'}, {'id': '26343', 'name': 'ide town'}, {'id': '26344', 'name': 'ujitawara town'}, {'id': '26364', 'name': 'kasagi town'}, {'id': '26365', 'name': 'wazuka town'}, {'id': '26366', 'name': 'seika town'}, {'id': '26367', 'name': 'minamiyamashiro village'}, {'id': '26407', 'name': 'kyotanba town'}, {'id': '26463', 'name': 'ine town'}, {'id': '26465', 'name': 'yosano town'}]}\n"
     ]
    }
   ],
   "source": [
    "# Know Pref.Kyoto's municipality code\n",
    "# prop transaction API need Pref code and Municipality code\n",
    "j = jrn.CityCode('Kyoto')\n",
    "pref_code = j.pref_code\n",
    "kyoto_city_json = j.city_json\n",
    "\n",
    "print(pref_code)\n",
    "print(kyoto_city_json)"
   ]
  },
  {
   "cell_type": "code",
   "execution_count": 3,
   "metadata": {},
   "outputs": [
    {
     "name": "stdout",
     "output_type": "stream",
     "text": [
      "26100\n"
     ]
    }
   ],
   "source": [
    "# Get municipality code of Pref: Kyoto, City: Kyoto\n",
    "\n",
    "city_code = j.city_code('Kyoto')\n",
    "print(city_code)  "
   ]
  },
  {
   "cell_type": "code",
   "execution_count": 4,
   "metadata": {},
   "outputs": [
    {
     "name": "stdout",
     "output_type": "stream",
     "text": [
      "(1643, 26)\n",
      "                                  Type MunicipalityCode        Prefecture  \\\n",
      "0         Pre-owned Condominiums, etc.            26101  Kyoto Prefecture   \n",
      "1          Residential Land(Land Only)            26101  Kyoto Prefecture   \n",
      "2  Residential Land(Land and Building)            26101  Kyoto Prefecture   \n",
      "3  Residential Land(Land and Building)            26101  Kyoto Prefecture   \n",
      "4         Pre-owned Condominiums, etc.            26101  Kyoto Prefecture   \n",
      "\n",
      "           Municipality              DistrictName TradePrice FloorPlan Area  \\\n",
      "0  Kita Ward,Kyoto City          Okitayamahasecho    9000000      3LDK   70   \n",
      "1  Kita Ward,Kyoto City  Okitayamaharadaniinuicho   15000000       NaN  440   \n",
      "2  Kita Ward,Kyoto City  Okitayamaharadaniinuicho   21000000       NaN  165   \n",
      "3  Kita Ward,Kyoto City  Okitayamaharadaniinuicho    4000000       NaN   60   \n",
      "4  Kita Ward,Kyoto City  Okitayamaharadaniinuicho   13000000      3LDK   55   \n",
      "\n",
      "  BuildingYear Structure  ... Renovation            Region UnitPrice  \\\n",
      "0         1993        RC  ...    Not yet               NaN       NaN   \n",
      "1          NaN       NaN  ...        NaN  Residential Area     34000   \n",
      "2         1998         W  ...        NaN  Residential Area       NaN   \n",
      "3         1995         W  ...        NaN  Residential Area       NaN   \n",
      "4         1993        RC  ...    Not yet               NaN       NaN   \n",
      "\n",
      "                      LandShape Frontage  Direction Classification Breadth  \\\n",
      "0                           NaN      NaN        NaN            NaN     NaN   \n",
      "1  &quot;Flag-shaped&quot; etc.      4.3      South   Private Road     7.0   \n",
      "2              Irregular Shaped     12.0  Southwest   Private Road     4.0   \n",
      "3       Semi-rectangular Shaped      3.9  Northeast      City Road     4.0   \n",
      "4                           NaN      NaN        NaN            NaN     NaN   \n",
      "\n",
      "  TotalFloorArea                          Remarks  \n",
      "0            NaN                              NaN  \n",
      "1            NaN                              NaN  \n",
      "2            115  Dealings including private road  \n",
      "3             90                              NaN  \n",
      "4            NaN                              NaN  \n",
      "\n",
      "[5 rows x 26 columns]\n"
     ]
    }
   ],
   "source": [
    "# Get Prop Transaction of Pref: Kyoto, City: Kyoto\n",
    "# Periods: 2022:3Q, 2022:4Q\n",
    "pt = jrn.PropTransactions(pref_code, city_code, 20223, 20224)\n",
    "df = pt.get_data()\n",
    "print(df.shape)\n",
    "print(df.head())"
   ]
  },
  {
   "cell_type": "code",
   "execution_count": null,
   "metadata": {},
   "outputs": [],
   "source": []
  }
 ],
 "metadata": {
  "kernelspec": {
   "display_name": ".venv",
   "language": "python",
   "name": "python3"
  },
  "language_info": {
   "codemirror_mode": {
    "name": "ipython",
    "version": 3
   },
   "file_extension": ".py",
   "mimetype": "text/x-python",
   "name": "python",
   "nbconvert_exporter": "python",
   "pygments_lexer": "ipython3",
   "version": "3.11.5"
  },
  "orig_nbformat": 4
 },
 "nbformat": 4,
 "nbformat_minor": 2
}
