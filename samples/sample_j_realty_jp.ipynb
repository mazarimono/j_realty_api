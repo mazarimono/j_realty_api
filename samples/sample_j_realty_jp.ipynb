{
 "cells": [
  {
   "cell_type": "code",
   "execution_count": 1,
   "metadata": {},
   "outputs": [],
   "source": [
    "from j_realty_api import j_realty_jp as jrp"
   ]
  },
  {
   "cell_type": "code",
   "execution_count": 5,
   "metadata": {},
   "outputs": [
    {
     "name": "stdout",
     "output_type": "stream",
     "text": [
      "26\n",
      "{'status': 'OK', 'data': [{'id': '26100', 'name': '京都市'}, {'id': '26101', 'name': '北区'}, {'id': '26102', 'name': '上京区'}, {'id': '26103', 'name': '左京区'}, {'id': '26104', 'name': '中京区'}, {'id': '26105', 'name': '東山区'}, {'id': '26106', 'name': '下京区'}, {'id': '26107', 'name': '南区'}, {'id': '26108', 'name': '右京区'}, {'id': '26109', 'name': '伏見区'}, {'id': '26110', 'name': '山科区'}, {'id': '26111', 'name': '西京区'}, {'id': '26201', 'name': '福知山市'}, {'id': '26202', 'name': '舞鶴市'}, {'id': '26203', 'name': '綾部市'}, {'id': '26204', 'name': '宇治市'}, {'id': '26205', 'name': '宮津市'}, {'id': '26206', 'name': '亀岡市'}, {'id': '26207', 'name': '城陽市'}, {'id': '26208', 'name': '向日市'}, {'id': '26209', 'name': '長岡京市'}, {'id': '26210', 'name': '八幡市'}, {'id': '26211', 'name': '京田辺市'}, {'id': '26212', 'name': '京丹後市'}, {'id': '26213', 'name': '南丹市'}, {'id': '26214', 'name': '木津川市'}, {'id': '26303', 'name': '大山崎町'}, {'id': '26322', 'name': '久御山町'}, {'id': '26343', 'name': '井手町'}, {'id': '26344', 'name': '宇治田原町'}, {'id': '26364', 'name': '笠置町'}, {'id': '26365', 'name': '和束町'}, {'id': '26366', 'name': '精華町'}, {'id': '26367', 'name': '南山城村'}, {'id': '26407', 'name': '京丹波町'}, {'id': '26463', 'name': '伊根町'}, {'id': '26465', 'name': '与謝野町'}]}\n"
     ]
    }
   ],
   "source": [
    "# 都道府県名の一部を渡して、京都の市町村のコードのJSONを得る\n",
    "\n",
    "j = jrp.CityCode('京都')\n",
    "pref_code = j.pref_code\n",
    "kyoto_city_json = j.city_json\n",
    "\n",
    "print(pref_code)\n",
    "print(kyoto_city_json)"
   ]
  },
  {
   "cell_type": "code",
   "execution_count": 6,
   "metadata": {},
   "outputs": [
    {
     "name": "stdout",
     "output_type": "stream",
     "text": [
      "26100\n"
     ]
    }
   ],
   "source": [
    "# 市町村のJSONからデータを得たい、市町村を選び、そのコードを得る\n",
    "city_code = j.city_code('京都')\n",
    "print(city_code)  "
   ]
  },
  {
   "cell_type": "code",
   "execution_count": 7,
   "metadata": {},
   "outputs": [
    {
     "name": "stdout",
     "output_type": "stream",
     "text": [
      "(1643, 27)\n",
      "        Type MunicipalityCode Prefecture Municipality DistrictName  \\\n",
      "0   中古マンション等            26101        京都府        京都市北区       大北山長谷町   \n",
      "1     宅地(土地)            26101        京都府        京都市北区      大北山原谷乾町   \n",
      "2  宅地(土地と建物)            26101        京都府        京都市北区      大北山原谷乾町   \n",
      "3  宅地(土地と建物)            26101        京都府        京都市北区      大北山原谷乾町   \n",
      "4   中古マンション等            26101        京都府        京都市北区      大北山原谷乾町   \n",
      "\n",
      "   TradePrice FloorPlan  Area  BuildingYear Structure  ... Region  \\\n",
      "0     9000000      ３ＬＤＫ    70        1993.0        ＲＣ  ...    NaN   \n",
      "1    15000000       NaN   440           NaN       NaN  ...    住宅地   \n",
      "2    21000000       NaN   165        1998.0        木造  ...    住宅地   \n",
      "3     4000000       NaN    60        1995.0        木造  ...    住宅地   \n",
      "4    13000000      ３ＬＤＫ    55        1993.0        ＲＣ  ...    NaN   \n",
      "\n",
      "  PricePerUnit UnitPrice  LandShape  Frontage Direction Classification  \\\n",
      "0          NaN       NaN        NaN       NaN       NaN            NaN   \n",
      "1     110000.0   34000.0        袋地等       4.3         南             私道   \n",
      "2          NaN       NaN        不整形      12.0        南西             私道   \n",
      "3          NaN       NaN      ほぼ長方形       3.9        北東             市道   \n",
      "4          NaN       NaN        NaN       NaN       NaN            NaN   \n",
      "\n",
      "  Breadth  TotalFloorArea  Remarks  \n",
      "0     NaN             NaN      NaN  \n",
      "1     7.0             NaN      NaN  \n",
      "2     4.0             115  私道を含む取引  \n",
      "3     4.0              90      NaN  \n",
      "4     NaN             NaN      NaN  \n",
      "\n",
      "[5 rows x 27 columns]\n"
     ]
    }
   ],
   "source": [
    "# 京都府京都市の不動産取引価格情報を2022年3Qから4Qの期間で取得する\n",
    "pt = jrp.PropTransactions(pref_code, city_code, 20223, 20224)\n",
    "df = pt.get_data()\n",
    "print(df.shape)\n",
    "print(df.head())"
   ]
  },
  {
   "cell_type": "code",
   "execution_count": null,
   "metadata": {},
   "outputs": [],
   "source": []
  }
 ],
 "metadata": {
  "kernelspec": {
   "display_name": ".venv",
   "language": "python",
   "name": "python3"
  },
  "language_info": {
   "codemirror_mode": {
    "name": "ipython",
    "version": 3
   },
   "file_extension": ".py",
   "mimetype": "text/x-python",
   "name": "python",
   "nbconvert_exporter": "python",
   "pygments_lexer": "ipython3",
   "version": "3.11.6"
  },
  "orig_nbformat": 4
 },
 "nbformat": 4,
 "nbformat_minor": 2
}
